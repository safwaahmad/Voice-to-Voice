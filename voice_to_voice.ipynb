{
  "nbformat": 4,
  "nbformat_minor": 0,
  "metadata": {
    "colab": {
      "provenance": []
    },
    "kernelspec": {
      "name": "python3",
      "display_name": "Python 3"
    },
    "language_info": {
      "name": "python"
    }
  },
  "cells": [
    {
      "cell_type": "code",
      "execution_count": null,
      "metadata": {
        "id": "S7UvwDG4fgZM"
      },
      "outputs": [],
      "source": [
        "!pip install gradio openai gtts pydub numpy requests groq openai-whisper\n",
        "!apt-get install -y ffmpeg\n"
      ]
    },
    {
      "cell_type": "code",
      "source": [
        "import os\n",
        "import gradio as gr\n",
        "import whisper\n",
        "from gtts import gTTS\n",
        "import io\n",
        "from groq import Groq\n"
      ],
      "metadata": {
        "id": "9tZvJSktS7bw"
      },
      "execution_count": 2,
      "outputs": []
    },
    {
      "cell_type": "code",
      "source": [
        "import os\n",
        "os.environ[\"GROQ_API_KEY\"] = \" grok-api \""
      ],
      "metadata": {
        "id": "16Egi3brWKK_"
      },
      "execution_count": 13,
      "outputs": []
    },
    {
      "cell_type": "code",
      "source": [
        "import os\n",
        "import gradio as gr\n",
        "import whisper\n",
        "from gtts import gTTS\n",
        "import io\n",
        "from groq import Groq\n",
        "\n",
        "# Initialize the Groq client\n",
        "client = Groq(api_key=os.environ.get(\"GROQ_API_KEY\"))\n",
        "\n",
        "# Load the Whisper model\n",
        "model = whisper.load_model(\"base\")  # You can choose other models like \"small\", \"medium\", \"large\"\n",
        "\n",
        "def process_audio(file_path):\n",
        "    try:\n",
        "        # Load the audio file\n",
        "        audio = whisper.load_audio(file_path)\n",
        "\n",
        "        # Transcribe the audio using Whisper\n",
        "        result = model.transcribe(audio)\n",
        "        text = result[\"text\"]\n",
        "\n",
        "        # Generate a response using Groq\n",
        "        chat_completion = client.chat.completions.create(\n",
        "            messages=[{\"role\": \"user\", \"content\": text}],\n",
        "            model=\"llama3-8b-8192\",  # Replace with the correct model if necessary\n",
        "        )\n",
        "\n",
        "        # Access the response using dot notation\n",
        "        response_message = chat_completion.choices[0].message.content.strip()\n",
        "\n",
        "        # Convert the response text to speech\n",
        "        tts = gTTS(response_message)\n",
        "        response_audio_io = io.BytesIO()\n",
        "        tts.write_to_fp(response_audio_io)  # Save the audio to the BytesIO object\n",
        "        response_audio_io.seek(0)\n",
        "\n",
        "        # Save audio to a file to ensure it's generated correctly\n",
        "        with open(\"response.mp3\", \"wb\") as audio_file:\n",
        "            audio_file.write(response_audio_io.getvalue())\n",
        "\n",
        "        # Return the response text and the path to the saved audio file\n",
        "        return response_message, \"response.mp3\"\n",
        "\n",
        "    except Exception as e:\n",
        "        return f\"An error occurred: {e}\", None\n",
        "\n",
        "iface = gr.Interface(\n",
        "    fn=process_audio,\n",
        "    inputs=gr.Audio(type=\"filepath\"),  # Use type=\"filepath\"\n",
        "    outputs=[gr.Textbox(label=\"Response Text\"), gr.Audio(label=\"Response Audio\")],\n",
        "    live=True\n",
        ")\n",
        "\n",
        "iface.launch()\n"
      ],
      "metadata": {
        "colab": {
          "base_uri": "https://localhost:8080/",
          "height": 646
        },
        "id": "MlLGGgnBnDJt",
        "outputId": "f85c099e-8771-4c87-cd33-24e2e86f1203"
      },
      "execution_count": 16,
      "outputs": [
        {
          "output_type": "stream",
          "name": "stdout",
          "text": [
            "Setting queue=True in a Colab notebook requires sharing enabled. Setting `share=True` (you can turn this off by setting `share=False` in `launch()` explicitly).\n",
            "\n",
            "Colab notebook detected. To show errors in colab notebook, set debug=True in launch()\n",
            "Running on public URL: https://5464cf97ddf8849057.gradio.live\n",
            "\n",
            "This share link expires in 72 hours. For free permanent hosting and GPU upgrades, run `gradio deploy` from Terminal to deploy to Spaces (https://huggingface.co/spaces)\n"
          ]
        },
        {
          "output_type": "display_data",
          "data": {
            "text/plain": [
              "<IPython.core.display.HTML object>"
            ],
            "text/html": [
              "<div><iframe src=\"https://5464cf97ddf8849057.gradio.live\" width=\"100%\" height=\"500\" allow=\"autoplay; camera; microphone; clipboard-read; clipboard-write;\" frameborder=\"0\" allowfullscreen></iframe></div>"
            ]
          },
          "metadata": {}
        },
        {
          "output_type": "execute_result",
          "data": {
            "text/plain": []
          },
          "metadata": {},
          "execution_count": 16
        }
      ]
    },
    {
      "cell_type": "code",
      "source": [
        "\n",
        "# import os\n",
        "# import gradio as gr\n",
        "# import whisper\n",
        "# from gtts import gTTS\n",
        "# from groq import Groq\n",
        "\n",
        "# # Set up Groq API client\n",
        "# client = Groq(\n",
        "#     api_key=\"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\"\n",
        "# )\n",
        "# # Load Whisper model\n",
        "# model = whisper.load_model(\"base\")\n",
        "\n",
        "# def chatbot(audio):\n",
        "#     # Transcribe the audio input using Whisper\n",
        "#     transcription = model.transcribe(audio)\n",
        "#     user_input = transcription[\"text\"]\n",
        "\n",
        "#     # Generate a response using Llama 8B via Groq API\n",
        "#     chat_completion = client.chat.completions.create(\n",
        "#         messages=[\n",
        "#             {\n",
        "#                 \"role\": \"user\",\n",
        "#                 \"content\": user_input,\n",
        "#             }\n",
        "#         ],\n",
        "#         model=\"llama3-8b-8192\",\n",
        "#     )\n",
        "#     response_text = chat_completion.choices[0].message.content\n",
        "\n",
        "#     # Convert the response text to speech using gTTS\n",
        "#     tts = gTTS(text=response_text, lang='en')\n",
        "#     tts.save(\"response.mp3\")\n",
        "\n",
        "#     return response_text, \"response.mp3\"\n",
        "\n",
        "# # Create a custom interface\n",
        "# def build_interface():\n",
        "#     with gr.Blocks() as demo:\n",
        "#         gr.Markdown(\n",
        "#             \"\"\"\n",
        "#             <h1 style=\"text-align: center; color: #4CAF50;\">Voice-to-Voice Chatbot</h1>\n",
        "#             <h3 style=\"text-align: center;\">Powered by OpenAI Whisper, Llama 8B, and gTTS</h3>\n",
        "#             <p style=\"text-align: center;\">Talk to the AI-powered chatbot and get responses in real-time. Start by recording your voice.</p>\n",
        "#             \"\"\"\n",
        "#         )\n",
        "#         with gr.Row():\n",
        "#             with gr.Column(scale=1):\n",
        "#                 audio_input = gr.Audio(type=\"filepath\", label=\"Record Your Voice\")\n",
        "#             with gr.Column(scale=2):\n",
        "#                 chatbot_output_text = gr.Textbox(label=\"Chatbot Response\")\n",
        "#                 chatbot_output_audio = gr.Audio(label=\"Audio Response\")\n",
        "\n",
        "#         submit_button = gr.Button(\"Submit\")\n",
        "\n",
        "#         submit_button.click(chatbot, inputs=audio_input, outputs=[chatbot_output_text, chatbot_output_audio])\n",
        "\n",
        "#     return demo\n",
        "\n",
        "# # Launch the interface\n",
        "# if __name__ == \"__main__\":\n",
        "#     interface = build_interface()\n",
        "#     interface.launch()"
      ],
      "metadata": {
        "colab": {
          "base_uri": "https://localhost:8080/",
          "height": 646
        },
        "id": "2V5A-OrGV8Om",
        "outputId": "87d0b91a-e733-42d1-e74f-b93f80b2e1e5"
      },
      "execution_count": 11,
      "outputs": [
        {
          "output_type": "stream",
          "name": "stdout",
          "text": [
            "Setting queue=True in a Colab notebook requires sharing enabled. Setting `share=True` (you can turn this off by setting `share=False` in `launch()` explicitly).\n",
            "\n",
            "Colab notebook detected. To show errors in colab notebook, set debug=True in launch()\n",
            "Running on public URL: https://4830dc44a5ca3bad19.gradio.live\n",
            "\n",
            "This share link expires in 72 hours. For free permanent hosting and GPU upgrades, run `gradio deploy` from Terminal to deploy to Spaces (https://huggingface.co/spaces)\n"
          ]
        },
        {
          "output_type": "display_data",
          "data": {
            "text/plain": [
              "<IPython.core.display.HTML object>"
            ],
            "text/html": [
              "<div><iframe src=\"https://4830dc44a5ca3bad19.gradio.live\" width=\"100%\" height=\"500\" allow=\"autoplay; camera; microphone; clipboard-read; clipboard-write;\" frameborder=\"0\" allowfullscreen></iframe></div>"
            ]
          },
          "metadata": {}
        }
      ]
    },
    {
      "cell_type": "code",
      "source": [],
      "metadata": {
        "id": "6egUpad6Z74W"
      },
      "execution_count": null,
      "outputs": []
    }
  ]
}

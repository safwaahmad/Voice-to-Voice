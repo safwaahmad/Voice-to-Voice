{
  "nbformat": 4,
  "nbformat_minor": 0,
  "metadata": {
    "colab": {
      "provenance": []
    },
    "kernelspec": {
      "name": "python3",
      "display_name": "Python 3"
    },
    "language_info": {
      "name": "python"
    }
  },
  "cells": [
    {
      "cell_type": "code",
      "execution_count": null,
      "metadata": {
        "id": "S7UvwDG4fgZM"
      },
      "outputs": [],
      "source": [
        "!pip install gradio openai gtts pydub numpy requests groq openai-whisper\n",
        "!apt-get install -y ffmpeg\n"
      ]
    },
    {
      "cell_type": "code",
      "source": [
        "import os\n",
        "import gradio as gr\n",
        "import whisper\n",
        "from gtts import gTTS\n",
        "import io\n",
        "from groq import Groq\n"
      ],
      "metadata": {
        "id": "9tZvJSktS7bw"
      },
      "execution_count": 2,
      "outputs": []
    },
    {
      "cell_type": "code",
      "source": [
        "import os\n",
        "os.environ[\"GROQ_API_KEY\"] = \" grok-api \""
      ],
      "metadata": {
        "id": "16Egi3brWKK_"
      },
      "execution_count": 13,
      "outputs": []
    },
    {
      "cell_type": "code",
      "source": [
        "import os\n",
        "import gradio as gr\n",
        "import whisper\n",
        "from gtts import gTTS\n",
        "import io\n",
        "from groq import Groq\n",
        "\n",
        "# Initialize the Groq client\n",
        "client = Groq(api_key=os.environ.get(\"GROQ_API_KEY\"))\n",
        "\n",
        "# Load the Whisper model\n",
        "model = whisper.load_model(\"base\")  # You can choose other models like \"small\", \"medium\", \"large\"\n",
        "\n",
        "def process_audio(file_path):\n",
        "    try:\n",
        "        # Load the audio file\n",
        "        audio = whisper.load_audio(file_path)\n",
        "\n",
        "        # Transcribe the audio using Whisper\n",
        "        result = model.transcribe(audio)\n",
        "        text = result[\"text\"]\n",
        "\n",
        "        # Generate a response using Groq\n",
        "        chat_completion = client.chat.completions.create(\n",
        "            messages=[{\"role\": \"user\", \"content\": text}],\n",
        "            model=\"llama3-8b-8192\",  # Replace with the correct model if necessary\n",
        "        )\n",
        "\n",
        "        # Access the response using dot notation\n",
        "        response_message = chat_completion.choices[0].message.content.strip()\n",
        "\n",
        "        # Convert the response text to speech\n",
        "        tts = gTTS(response_message)\n",
        "        response_audio_io = io.BytesIO()\n",
        "        tts.write_to_fp(response_audio_io)  # Save the audio to the BytesIO object\n",
        "        response_audio_io.seek(0)\n",
        "\n",
        "        # Save audio to a file to ensure it's generated correctly\n",
        "        with open(\"response.mp3\", \"wb\") as audio_file:\n",
        "            audio_file.write(response_audio_io.getvalue())\n",
        "\n",
        "        # Return the response text and the path to the saved audio file\n",
        "        return response_message, \"response.mp3\"\n",
        "\n",
        "    except Exception as e:\n",
        "        return f\"An error occurred: {e}\", None\n",
        "\n",
        "iface = gr.Interface(\n",
        "    fn=process_audio,\n",
        "    inputs=gr.Audio(type=\"filepath\"),  # Use type=\"filepath\"\n",
        "    outputs=[gr.Textbox(label=\"Response Text\"), gr.Audio(label=\"Response Audio\")],\n",
        "    live=True\n",
        ")\n",
        "\n",
        "iface.launch()\n"
      ],
      "metadata": {
        "colab": {
          "base_uri": "https://localhost:8080/",
          "height": 646
        },
        "id": "MlLGGgnBnDJt",
        "outputId": "f85c099e-8771-4c87-cd33-24e2e86f1203"
      },
      "execution_count": 16,
      "outputs": [
        {
          "output_type": "stream",
          "name": "stdout",
          "text": [
            "Setting queue=True in a Colab notebook requires sharing enabled. Setting `share=True` (you can turn this off by setting `share=False` in `launch()` explicitly).\n",
            "\n",
            "Colab notebook detected. To show errors in colab notebook, set debug=True in launch()\n",
            "Running on public URL: https://5464cf97ddf8849057.gradio.live\n",
            "\n",
            "This share link expires in 72 hours. For free permanent hosting and GPU upgrades, run `gradio deploy` from Terminal to deploy to Spaces (https://huggingface.co/spaces)\n"
          ]
        },
        {
          "output_type": "display_data",
          "data": {
            "text/plain": [
              "<IPython.core.display.HTML object>"
            ],
            "text/html": [
              "<div><iframe src=\"https://5464cf97ddf8849057.gradio.live\" width=\"100%\" height=\"500\" allow=\"autoplay; camera; microphone; clipboard-read; clipboard-write;\" frameborder=\"0\" allowfullscreen></iframe></div>"
            ]
          },
          "metadata": {}
        },
        {
          "output_type": "execute_result",
          "data": {
            "text/plain": []
          },
          "metadata": {},
          "execution_count": 16
        }
      ]
    },
    {
      "cell_type": "code",
      "source": [
        "\n",
        
